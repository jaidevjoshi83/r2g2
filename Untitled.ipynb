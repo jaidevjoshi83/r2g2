{
 "cells": [
  {
   "cell_type": "code",
   "execution_count": 2,
   "id": "1edc6fa6-444e-4293-b424-b7ecdce60fa4",
   "metadata": {},
   "outputs": [],
   "source": [
    "from scripts.RScriptSupport import *\n",
    "import re\n",
    "\n"
   ]
  },
  {
   "cell_type": "code",
   "execution_count": 153,
   "id": "28a53ed4-7f2c-464f-9908-b7cee5c0694a",
   "metadata": {},
   "outputs": [],
   "source": [
    "\n",
    "raw_params = returnCleanedParams('./scripts/test.r')\n",
    "\n",
    "raw_params = [[('-v', '--verbose'), {'action': 'store_true', 'default': True, 'help': 'Print extra output [default]', 'type': 'double'}]]\n",
    "\n",
    "# <param name=\"argument\" type=\"data\" format=\"rds\" label=\"Argument value\" help=\"\"/>\n",
    "def guess_the_type(raw_dict):\n",
    "    type_dict = {'integer':'integer', 'double':'float', 'character': 'text', 'logical':'boolean'}\n",
    "    if \"type\" in raw_dict.keys():\n",
    "        return str(type_dict[raw_dict['type']])\n",
    "    elif 'default' in raw_dict.keys():\n",
    "        try:\n",
    "            value_type = eval(str(raw_dict['default']))\n",
    "            return str(value_type)\n",
    "        except ValueError:\n",
    "            return \"text\"\n",
    "            "
   ]
  },
  {
   "cell_type": "code",
   "execution_count": 149,
   "id": "c77c5b8d-d51f-4689-8b6c-53da8e92342c",
   "metadata": {},
   "outputs": [],
   "source": [
    "def create_galaxy_params(raw_param):\n",
    "    params_dict = {\n",
    "\n",
    "        'name':{'short':None, 'long':None},\n",
    "        'label':None,\n",
    "        'help':None,\n",
    "        'value':None,\n",
    "        'multiple':None,\n",
    "        'type':None,\n",
    "        'optional': None\n",
    "    }\n",
    "    \n",
    "    if isinstance(raw_param[0], tuple):\n",
    "        for i in raw_param[0]:\n",
    "            if bool(re.match(r\"^--[^-]\", i)):\n",
    "               params_dict['name']['long'] = i.strip('--')\n",
    "            elif bool(re.match(r\"^-[^-]\", i)):  # Changed to elif\n",
    "               params_dict['name']['short'] = i.strip('-')\n",
    "    \n",
    "    if isinstance(raw_param[1], dict):\n",
    "         params_dict['type'] = guess_the_type(raw_param[1])\n",
    "\n",
    "         if 'help' in raw_param[1].keys():\n",
    "             params_dict['help'] = raw_param[1]['help']\n",
    "         else:\n",
    "             params_dict['help'] = ''\n",
    "\n",
    "         if 'required' in raw_param[1].keys():\n",
    "             params_dict['optional'] = raw_param[1]['required']\n",
    "         else:\n",
    "             params_dict['optional'] = 'false'\n",
    "\n",
    "\n",
    "         if 'help' in raw_param[1].keys():\n",
    "             params_dict['type'] = raw_param[1][help]\n",
    "         else:\n",
    "             params_dict['type'] = ''\n",
    "             \n",
    "             \n",
    "\n",
    "\n",
    "    "
   ]
  },
  {
   "cell_type": "code",
   "execution_count": 110,
   "id": "88c866cb-adbb-4dc3-933b-d637029a3ae6",
   "metadata": {},
   "outputs": [
    {
     "name": "stdout",
     "output_type": "stream",
     "text": [
      "{'action': 'store_true', 'default': True, 'help': 'Print extra output [default]'}\n"
     ]
    }
   ],
   "source": [
    "create_galaxy_params(raw_params[0])"
   ]
  },
  {
   "cell_type": "code",
   "execution_count": 155,
   "id": "32fe572a-b74f-46f8-bbb0-dbf4e0bd4f7e",
   "metadata": {},
   "outputs": [
    {
     "name": "stdout",
     "output_type": "stream",
     "text": [
      "{'action': 'store_true', 'default': True, 'help': 'Print extra output [default]', 'type': 'double'}\n"
     ]
    },
    {
     "data": {
      "text/plain": [
       "'float'"
      ]
     },
     "execution_count": 155,
     "metadata": {},
     "output_type": "execute_result"
    }
   ],
   "source": [
    "\n",
    "print(raw_params[0][1])\n",
    "guess_the_type(raw_params[0][1])"
   ]
  },
  {
   "cell_type": "code",
   "execution_count": 156,
   "id": "3601659d-e7a3-4d58-987e-4859f9ca5991",
   "metadata": {},
   "outputs": [
    {
     "name": "stdout",
     "output_type": "stream",
     "text": [
      "origin\thttps://github.com/blankenberg/r2g2.git (fetch)\n",
      "origin\thttps://github.com/blankenberg/r2g2.git (push)\n"
     ]
    }
   ],
   "source": [
    "!git remote -v"
   ]
  },
  {
   "cell_type": "code",
   "execution_count": null,
   "id": "96594572-93f1-49a5-96fd-2c03016f5341",
   "metadata": {},
   "outputs": [],
   "source": []
  }
 ],
 "metadata": {
  "kernelspec": {
   "display_name": "Python 3 (ipykernel)",
   "language": "python",
   "name": "python3"
  },
  "language_info": {
   "codemirror_mode": {
    "name": "ipython",
    "version": 3
   },
   "file_extension": ".py",
   "mimetype": "text/x-python",
   "name": "python",
   "nbconvert_exporter": "python",
   "pygments_lexer": "ipython3",
   "version": "3.8.20"
  }
 },
 "nbformat": 4,
 "nbformat_minor": 5
}
