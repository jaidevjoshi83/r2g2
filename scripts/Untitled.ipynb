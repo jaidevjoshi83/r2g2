{
 "cells": [
  {
   "cell_type": "code",
   "execution_count": null,
   "id": "b61e1ff2",
   "metadata": {},
   "outputs": [
    {
     "name": "stdout",
     "output_type": "stream",
     "text": [
      "\"-v\", \"--verbose\", action=\"store_true\", default=TRUE, help=\"Print extra output [default]\"\n"
     ]
    }
   ],
   "source": []
  },
  {
   "cell_type": "code",
   "execution_count": null,
   "id": "4e7f957f",
   "metadata": {},
   "outputs": [],
   "source": []
  },
  {
   "cell_type": "code",
   "execution_count": 205,
   "id": "cc3795a0",
   "metadata": {},
   "outputs": [],
   "source": [
    "import re\n",
    "\n",
    "def extract_argument_lines(r_script_text):\n",
    "    # Use regex to find all argument definitions\n",
    "    # This pattern looks for parser$add_argument and everything until the closing parenthesis\n",
    "    # It handles multiline argument definitions\n",
    "    pattern = r'parser\\$add_argument\\(.*?\\)(?=\\s*$|\\s*parser|\\s*#|\\s*args)'\n",
    "    \n",
    "    # re.DOTALL flag makes the dot match newlines as well\n",
    "    # We'll use re.MULTILINE to make ^ and $ match the start and end of each line\n",
    "    arguments = re.findall(pattern, r_script_text, re.DOTALL | re.MULTILINE)\n",
    "    \n",
    "    # Clean up the matches by removing extra whitespace\n",
    "    cleaned_arguments = []\n",
    "    for arg in arguments:\n",
    "        # Replace multiple whitespaces and newlines with a single space\n",
    "        cleaned_arg = re.sub(r'\\s+', ' ', arg.strip())\n",
    "        cleaned_arguments.append(cleaned_arg)\n",
    "    \n",
    "    return cleaned_arguments\n",
    "\n",
    "with open('test.r' ) as out:\n",
    "    raw_r  = out.read()\n",
    "# Extract and print the argument lines\n",
    "    argument_lines = extract_argument_lines(raw_r)\n",
    "\n",
    "arg_lines = []\n",
    "\n",
    "for i, line in enumerate(argument_lines, 1):\n",
    "    arg_lines.append(extract_inner_args(line))"
   ]
  },
  {
   "cell_type": "code",
   "execution_count": 213,
   "id": "ba561ed5",
   "metadata": {},
   "outputs": [],
   "source": [
    "# for i in arg_lines:\n",
    "#     print(i)"
   ]
  },
  {
   "cell_type": "code",
   "execution_count": null,
   "id": "fbeceec7",
   "metadata": {},
   "outputs": [],
   "source": [
    "text = json.dumps(\"rnorm\")"
   ]
  },
  {
   "cell_type": "code",
   "execution_count": 207,
   "id": "870cba13",
   "metadata": {},
   "outputs": [],
   "source": [
    "\n",
    "\n",
    "def c(*args):\n",
    "    return list(args) \n",
    "\n",
    "def test_funct(*args, **kwargs):\n",
    "    print(\"Positional arguments:\", args)\n",
    "    print(\"Keyword arguments:\", kwargs)\n",
    "    return args, kwargs\n",
    "\n"
   ]
  },
  {
   "cell_type": "code",
   "execution_count": 215,
   "id": "d573e088",
   "metadata": {},
   "outputs": [
    {
     "name": "stdout",
     "output_type": "stream",
     "text": [
      "[('-v', '--verbose'), {'action': 'store_true', 'default': True, 'help': 'Print extra output [default]'}]\n",
      "[('-q', '--quietly'), {'action': 'store_false', 'dest': 'verbose', 'help': 'Print little output'}]\n",
      "[('-c', '--count'), {'type': 'integer', 'default': 5, 'help': 'Number of random normals to generate [default %(default)s]', 'metavar': 'number'}]\n",
      "[('--generator',), {'default': 'rnorm', 'help': 'Function to generate random deviates [default \"%(default)s\"]'}]\n",
      "[('--mean',), {'default': 0, 'type': 'double', 'help': 'Mean if generator == \"rnorm\" [default %(default)s]'}]\n",
      "[('--sd',), {'default': 1, 'type': 'double', 'metavar': 'standard deviation', 'help': 'Standard deviation if generator == \"rnorm\" [default %(default)s]'}]\n",
      "[('--mode',), {'choices': ['normal', 'uniform', 'binomial'], 'default': 'normal', 'help': 'The distribution mode to use. Choices are: normal, uniform, or binomial [default %(default)s]'}]\n"
     ]
    }
   ],
   "source": [
    "import re\n",
    "\n",
    "def clean_formating(text):\n",
    "    updated_text = re.sub(r'\"\\%\\((.*?)\\)s\"\\]', ']', text)\n",
    "    return updated_text\n",
    "\n",
    "def test_funct(*args, **kwargs):\n",
    "    return [args, kwargs]\n",
    "\n",
    "# The string representation of the function call\n",
    "code_str = 'test_funct(\"--mode\", choices=c(\"normal\", \"uniform\", \"binomial\"), default=\"normal\", help=\"The distribution mode to use. Choices are: normal, uniform, or binomial [default %(default)s]\")'\n",
    "\n",
    "\n",
    "for n, i in enumerate (arg_lines):\n",
    "    # i = clean_formating(i)\n",
    "    i = i.replace('TRUE', 'True')\n",
    "    print (eval('test_funct('+i+')'))\n",
    "    # print(n, i)\n",
    "\n",
    "\n"
   ]
  },
  {
   "cell_type": "code",
   "execution_count": null,
   "id": "b3c7750d",
   "metadata": {},
   "outputs": [
    {
     "data": {
      "text/plain": [
       "[[('-v', '--verbose'),\n",
       "  {'action': 'store_true',\n",
       "   'default': True,\n",
       "   'help': 'Print extra output [default]'}],\n",
       " [('-q', '--quietly'),\n",
       "  {'action': 'store_false', 'dest': 'verbose', 'help': 'Print little output'}],\n",
       " [('-c', '--count'),\n",
       "  {'type': 'integer',\n",
       "   'default': 5,\n",
       "   'help': 'Number of random normals to generate [default %(default)s]',\n",
       "   'metavar': 'number'}],\n",
       " [('--generator',),\n",
       "  {'default': 'rnorm',\n",
       "   'help': 'Function to generate random deviates [default \"%(default)s\"]'}],\n",
       " [('--mean',),\n",
       "  {'default': 0,\n",
       "   'type': 'double',\n",
       "   'help': 'Mean if generator == \"rnorm\" [default %(default)s]'}],\n",
       " [('--sd',),\n",
       "  {'default': 1,\n",
       "   'type': 'double',\n",
       "   'metavar': 'standard deviation',\n",
       "   'help': 'Standard deviation if generator == \"rnorm\" [default %(default)s]'}],\n",
       " [('--mode',),\n",
       "  {'choices': ['normal', 'uniform', 'binomial'],\n",
       "   'default': 'normal',\n",
       "   'help': 'The distribution mode to use. Choices are: normal, uniform, or binomial [default %(default)s]'}]]"
      ]
     },
     "execution_count": 219,
     "metadata": {},
     "output_type": "execute_result"
    }
   ],
   "source": []
  }
 ],
 "metadata": {
  "kernelspec": {
   "display_name": "base",
   "language": "python",
   "name": "python3"
  },
  "language_info": {
   "codemirror_mode": {
    "name": "ipython",
    "version": 3
   },
   "file_extension": ".py",
   "mimetype": "text/x-python",
   "name": "python",
   "nbconvert_exporter": "python",
   "pygments_lexer": "ipython3",
   "version": "3.8.3"
  }
 },
 "nbformat": 4,
 "nbformat_minor": 5
}
